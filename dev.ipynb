{
 "cells": [
  {
   "cell_type": "code",
   "id": "6750cd9bba79e98b",
   "metadata": {
    "ExecuteTime": {
     "end_time": "2024-10-14T09:15:26.270612Z",
     "start_time": "2024-10-14T09:15:26.221498Z"
    }
   },
   "source": [
    "%load_ext autoreload\n",
    "%autoreload 2"
   ],
   "outputs": [],
   "execution_count": 1
  },
  {
   "metadata": {
    "ExecuteTime": {
     "end_time": "2024-10-14T09:16:49.016387Z",
     "start_time": "2024-10-14T09:16:47.215830Z"
    }
   },
   "cell_type": "code",
   "source": [
    "from dcf import ecf, ytm, iac, bpv, delta, CashFlowList, PayOffModel\n",
    "from dcf.payoffs import CashFlowDetails, RateCashFlowPayOff"
   ],
   "id": "d79af877e724a72b",
   "outputs": [],
   "execution_count": 3
  },
  {
   "metadata": {},
   "cell_type": "markdown",
   "source": "# README issue",
   "id": "e95c802767e6cbfd"
  },
  {
   "metadata": {
    "ExecuteTime": {
     "end_time": "2024-10-14T09:33:54.173885Z",
     "start_time": "2024-10-14T09:33:54.135435Z"
    }
   },
   "cell_type": "code",
   "source": [
    "from businessdate import BusinessDate, BusinessSchedule\n",
    "from dcf import pv, CashFlowList\n",
    "from dcf.plans import amortize, outstanding\n",
    "from yieldcurves import YieldCurve, DateCurve\n",
    "BusinessDate.BASE_DATE = 20241001"
   ],
   "id": "8de261f9d0996a57",
   "outputs": [],
   "execution_count": 36
  },
  {
   "metadata": {
    "ExecuteTime": {
     "end_time": "2024-10-14T09:43:44.254273Z",
     "start_time": "2024-10-14T09:43:44.202354Z"
    }
   },
   "cell_type": "code",
   "source": [
    "today = BusinessDate(20201031)\n",
    "schedule = BusinessSchedule(today, today + \"8q\", step=\"1q\")\n",
    "start_date, payment_dates = schedule[0], schedule[1:]\n",
    "\n",
    "number_of_payments = 8\n",
    "interest_rate = 0.03\n",
    "notional = 1000.\n",
    "\n",
    "plan = amortize(number_of_payments, amount=notional)\n",
    "out = outstanding(plan, amount=notional)\n",
    "\n",
    "principal = CashFlowList.from_fixed_cashflows([start_date], [notional])\n",
    "redemption = CashFlowList.from_fixed_cashflows(payment_dates, plan)\n",
    "interest = CashFlowList.from_rate_cashflows(payment_dates, out, fixed_rate=interest_rate)\n",
    "loan = interest - principal + redemption "
   ],
   "id": "951f90ca20cdb84",
   "outputs": [],
   "execution_count": 124
  },
  {
   "metadata": {
    "ExecuteTime": {
     "end_time": "2024-10-14T09:45:08.702299Z",
     "start_time": "2024-10-14T09:45:08.666563Z"
    }
   },
   "cell_type": "code",
   "source": [
    "BusinessDate.BASE_DATE = 20241015\n",
    "yield_curve = YieldCurve.from_interpolation([0.0, 5.0, 10.0], [0.03, 0.02, 0.025])\n",
    "discount_curve = DateCurve(yield_curve, origin=today).df\n",
    "\n",
    "v = pv(cashflow_list=loan, discount_curve=discount_curve, valuation_date=today)\n",
    "v, v == 5.77785657421137, today"
   ],
   "id": "c199cac9382baf00",
   "outputs": [
    {
     "data": {
      "text/plain": [
       "(2.9759190185570645, False, BusinessDate(20201031))"
      ]
     },
     "execution_count": 134,
     "metadata": {},
     "output_type": "execute_result"
    }
   ],
   "execution_count": 134
  },
  {
   "metadata": {},
   "cell_type": "markdown",
   "source": "# `float`",
   "id": "f5a7d9ecb643fa90"
  },
  {
   "metadata": {
    "ExecuteTime": {
     "end_time": "2024-10-14T09:16:50.265720Z",
     "start_time": "2024-10-14T09:16:50.167598Z"
    }
   },
   "cell_type": "code",
   "source": [
    "n = 1_000_000\n",
    "coupon_leg = CashFlowList.from_rate_cashflows([1.,2.,3.,4.,5.], amount_list=n, origin=0., fixed_rate=0.05)\n",
    "#coupon_leg.print()\n",
    "redemption_leg = CashFlowList.from_fixed_cashflows([5.], amount_list=n)\n",
    "# redemption_leg.print()\n",
    "bond = coupon_leg + redemption_leg\n",
    "display(bond.table)\n",
    "print(bond)\n",
    "print(repr(bond))\n",
    "bond"
   ],
   "id": "21a26145e3925f24",
   "outputs": [
    {
     "data": {
      "text/plain": [
       "[['pay date',\n",
       "  'cashflow',\n",
       "  'notional',\n",
       "  'pay rec',\n",
       "  'fixed rate',\n",
       "  'start date',\n",
       "  'end date',\n",
       "  'year fraction'],\n",
       " [1.0, 50000.0, 1000000, 'pay', 0.05, 0.0, 1.0, 1.0],\n",
       " [2.0, 50000.0, 1000000, 'pay', 0.05, 1.0, 2.0, 1.0],\n",
       " [3.0, 50000.0, 1000000, 'pay', 0.05, 2.0, 3.0, 1.0],\n",
       " [4.0, 50000.0, 1000000, 'pay', 0.05, 3.0, 4.0, 1.0],\n",
       " [5.0, 50000.0, 1000000, 'pay', 0.05, 4.0, 5.0, 1.0],\n",
       " [5.0, 1000000, None, None, None, None, None, None]]"
      ]
     },
     "metadata": {},
     "output_type": "display_data"
    },
    {
     "name": "stdout",
     "output_type": "stream",
     "text": [
      "  pay date     cashflow    notional  pay rec      fixed rate    start date    end date    year fraction\n",
      "----------  -----------  ----------  ---------  ------------  ------------  ----------  ---------------\n",
      "       1.0     50_000.0   1_000_000  pay                0.05           0.0         1.0              1.0\n",
      "       2.0     50_000.0   1_000_000  pay                0.05           1.0         2.0              1.0\n",
      "       3.0     50_000.0   1_000_000  pay                0.05           2.0         3.0              1.0\n",
      "       4.0     50_000.0   1_000_000  pay                0.05           3.0         4.0              1.0\n",
      "       5.0     50_000.0   1_000_000  pay                0.05           4.0         5.0              1.0\n",
      "       5.0  1_000_000.0\n",
      "CashFlowList(\n",
      "[ RateCashFlowPayOff(1.0, 0.0, 1.0, 1000000, fixed_rate=0.05),\n",
      "  RateCashFlowPayOff(2.0, 1.0, 2.0, 1000000, fixed_rate=0.05),\n",
      "  RateCashFlowPayOff(3.0, 2.0, 3.0, 1000000, fixed_rate=0.05),\n",
      "  RateCashFlowPayOff(4.0, 3.0, 4.0, 1000000, fixed_rate=0.05),\n",
      "  RateCashFlowPayOff(5.0, 4.0, 5.0, 1000000, fixed_rate=0.05),\n",
      "  FixedCashFlowPayOff(5.0, 1000000)]\n",
      ")\n"
     ]
    },
    {
     "data": {
      "text/plain": [
       "CashFlowList(\n",
       "[ RateCashFlowPayOff(1.0, 0.0, 1.0, 1000000, fixed_rate=0.05),\n",
       "  RateCashFlowPayOff(2.0, 1.0, 2.0, 1000000, fixed_rate=0.05),\n",
       "  RateCashFlowPayOff(3.0, 2.0, 3.0, 1000000, fixed_rate=0.05),\n",
       "  RateCashFlowPayOff(4.0, 3.0, 4.0, 1000000, fixed_rate=0.05),\n",
       "  RateCashFlowPayOff(5.0, 4.0, 5.0, 1000000, fixed_rate=0.05),\n",
       "  FixedCashFlowPayOff(5.0, 1000000)]\n",
       ")"
      ],
      "text/html": [
       "<table>\n",
       "<thead>\n",
       "<tr><th style=\"text-align: right;\">  pay date</th><th style=\"text-align: right;\">  cashflow</th><th style=\"text-align: right;\">  notional</th><th>pay rec  </th><th style=\"text-align: right;\">  fixed rate</th><th style=\"text-align: right;\">  start date</th><th style=\"text-align: right;\">  end date</th><th style=\"text-align: right;\">  year fraction</th></tr>\n",
       "</thead>\n",
       "<tbody>\n",
       "<tr><td style=\"text-align: right;\">         1</td><td style=\"text-align: right;\"> 50000    </td><td style=\"text-align: right;\">   1000000</td><td>pay      </td><td style=\"text-align: right;\">        0.05</td><td style=\"text-align: right;\">           0</td><td style=\"text-align: right;\">         1</td><td style=\"text-align: right;\">              1</td></tr>\n",
       "<tr><td style=\"text-align: right;\">         2</td><td style=\"text-align: right;\"> 50000    </td><td style=\"text-align: right;\">   1000000</td><td>pay      </td><td style=\"text-align: right;\">        0.05</td><td style=\"text-align: right;\">           1</td><td style=\"text-align: right;\">         2</td><td style=\"text-align: right;\">              1</td></tr>\n",
       "<tr><td style=\"text-align: right;\">         3</td><td style=\"text-align: right;\"> 50000    </td><td style=\"text-align: right;\">   1000000</td><td>pay      </td><td style=\"text-align: right;\">        0.05</td><td style=\"text-align: right;\">           2</td><td style=\"text-align: right;\">         3</td><td style=\"text-align: right;\">              1</td></tr>\n",
       "<tr><td style=\"text-align: right;\">         4</td><td style=\"text-align: right;\"> 50000    </td><td style=\"text-align: right;\">   1000000</td><td>pay      </td><td style=\"text-align: right;\">        0.05</td><td style=\"text-align: right;\">           3</td><td style=\"text-align: right;\">         4</td><td style=\"text-align: right;\">              1</td></tr>\n",
       "<tr><td style=\"text-align: right;\">         5</td><td style=\"text-align: right;\"> 50000    </td><td style=\"text-align: right;\">   1000000</td><td>pay      </td><td style=\"text-align: right;\">        0.05</td><td style=\"text-align: right;\">           4</td><td style=\"text-align: right;\">         5</td><td style=\"text-align: right;\">              1</td></tr>\n",
       "<tr><td style=\"text-align: right;\">         5</td><td style=\"text-align: right;\">     1e+06</td><td style=\"text-align: right;\">          </td><td>         </td><td style=\"text-align: right;\">            </td><td style=\"text-align: right;\">            </td><td style=\"text-align: right;\">          </td><td style=\"text-align: right;\">               </td></tr>\n",
       "</tbody>\n",
       "</table>"
      ]
     },
     "execution_count": 4,
     "metadata": {},
     "output_type": "execute_result"
    }
   ],
   "execution_count": 4
  },
  {
   "metadata": {},
   "cell_type": "markdown",
   "source": "### `fit()` with year fraction",
   "id": "f4c5e022fd31725"
  },
  {
   "metadata": {
    "ExecuteTime": {
     "end_time": "2024-10-14T09:17:17.479907Z",
     "start_time": "2024-10-14T09:17:17.431335Z"
    }
   },
   "cell_type": "code",
   "source": [
    "from dcf import CashFlowList, fit, pv\n",
    "from yieldcurves import YieldCurve, DateCurve"
   ],
   "id": "596515e7e99bf5d1",
   "outputs": [],
   "execution_count": 5
  },
  {
   "metadata": {
    "ExecuteTime": {
     "end_time": "2024-10-14T09:17:18.835459Z",
     "start_time": "2024-10-14T09:17:18.780058Z"
    }
   },
   "cell_type": "code",
   "source": [
    "today = 0.0\n",
    "cashflow_list = []\n",
    "schedule = [1., 2., 3., 4., 5. ]\n",
    "for i, d in enumerate(schedule):\n",
    "    pay_dates = [s for s in schedule if s <= d]\n",
    "    # cf = CashFlowList.from_rate_cashflows(pay_dates, 1_000_000, origin=today, fixed_rate=0.002 * i)\n",
    "    cf = CashFlowList.from_fixed_cashflows([d], 1)\n",
    "    cashflow_list.append(cf)"
   ],
   "id": "bdc4c1c879188c51",
   "outputs": [],
   "execution_count": 6
  },
  {
   "metadata": {
    "ExecuteTime": {
     "end_time": "2024-10-14T09:17:21.573917Z",
     "start_time": "2024-10-14T09:17:21.544402Z"
    }
   },
   "cell_type": "code",
   "source": [
    "curve = YieldCurve.from_interpolation(schedule, [0.01, 0.009, 0.012, 0.014, 0.011])\n",
    "targets = [pv(c, curve.df, today) for c in cashflow_list]"
   ],
   "id": "820c36b050f0aed1",
   "outputs": [],
   "execution_count": 7
  },
  {
   "metadata": {
    "ExecuteTime": {
     "end_time": "2024-10-14T09:19:12.848493Z",
     "start_time": "2024-10-14T09:19:12.802191Z"
    }
   },
   "cell_type": "code",
   "source": "fit(cashflow_list, YieldCurve(0.0).df, today, price_list=targets)",
   "id": "eae9eaa30ef40eb0",
   "outputs": [
    {
     "data": {
      "text/plain": [
       "{1.0: 0.009999999999989299,\n",
       " 2.0: 0.008999999998170333,\n",
       " 3.0: 0.011999999985101466,\n",
       " 4.0: 0.013999999934628832,\n",
       " 5.0: 0.011000000000002525}"
      ]
     },
     "execution_count": 13,
     "metadata": {},
     "output_type": "execute_result"
    }
   ],
   "execution_count": 13
  },
  {
   "metadata": {},
   "cell_type": "code",
   "source": [
    "yc = YieldCurve(0.0)\n",
    "fit(cashflow_list, yc.df, today, price_list=targets)"
   ],
   "id": "898bc8a8005ff770",
   "outputs": [],
   "execution_count": null
  },
  {
   "metadata": {},
   "cell_type": "code",
   "source": "fit(cashflow_list, yc.df, today, price_list=targets, fitting_curve=yc.curve)",
   "id": "ab0f98dd0be71aa2",
   "outputs": [],
   "execution_count": null
  },
  {
   "metadata": {},
   "cell_type": "code",
   "source": [
    "yc = DateCurve(YieldCurve(0.0), origin=0.0)\n",
    "fit(cashflow_list, yc.df, today, price_list=targets, fitting_curve=yc.curve.curve)"
   ],
   "id": "df47efa1de1ed633",
   "outputs": [],
   "execution_count": null
  },
  {
   "metadata": {},
   "cell_type": "code",
   "source": [
    "yc = DateCurve(YieldCurve(0.0), origin=0.0)\n",
    "grid = [yc.year_fraction(max(cf.domain)) for cf in cashflow_list]\n",
    "fit(cashflow_list, yc.df, today, price_list=targets, fitting_curve=yc.curve.curve, fitting_grid=grid)"
   ],
   "id": "4aabef33972e2dc3",
   "outputs": [],
   "execution_count": null
  },
  {
   "metadata": {},
   "cell_type": "markdown",
   "source": "### `fit()` with BusinessDate",
   "id": "1733d7c7177860bd"
  },
  {
   "metadata": {},
   "cell_type": "code",
   "source": [
    "from businessdate import BusinessDate, BusinessSchedule\n",
    "from dcf import CashFlowList, fit, pv\n",
    "from yieldcurves import YieldCurve, DateCurve\n",
    "from yieldcurves.interpolation import piecewise_linear"
   ],
   "id": "da14ef3966abf0b7",
   "outputs": [],
   "execution_count": null
  },
  {
   "metadata": {},
   "cell_type": "code",
   "source": [
    "today = BusinessDate(20240101)\n",
    "cashflow_list = []\n",
    "schedule = BusinessSchedule(today + '1y', today + '5y', step='1y')\n",
    "for i, d in enumerate(schedule):\n",
    "    pay_dates = [s for s in schedule if s <= d]\n",
    "    #cf = CashFlowList.from_rate_cashflows(pay_dates, 1_000_000, origin=today, fixed_rate=0.002 * i)\n",
    "    cf = CashFlowList.from_fixed_cashflows([d], 1)\n",
    "    cashflow_list.append(cf)"
   ],
   "id": "d55cad1a06586a35",
   "outputs": [],
   "execution_count": null
  },
  {
   "metadata": {},
   "cell_type": "code",
   "source": [
    "curve = DateCurve(YieldCurve.from_interpolation(schedule, [0.01, 0.009, 0.012, 0.014, 0.011]), origin=today)\n",
    "targets = [pv(c, curve.df, today) for c in cashflow_list]"
   ],
   "id": "5c42b56e86b10e7c",
   "outputs": [],
   "execution_count": null
  },
  {
   "metadata": {},
   "cell_type": "code",
   "source": [
    "yc = DateCurve(YieldCurve(0.0), origin=today)\n",
    "fit(cashflow_list, yc.df, today, price_list=targets)"
   ],
   "id": "433a5f4630d3a3e3",
   "outputs": [],
   "execution_count": null
  },
  {
   "metadata": {},
   "cell_type": "code",
   "source": [
    "yc = DateCurve(YieldCurve(0.0), origin=today)\n",
    "fit(cashflow_list, yc.df, today, price_list=targets, fitting_curve=yc.curve.curve)"
   ],
   "id": "b4f34a6dc9e7cbee",
   "outputs": [],
   "execution_count": null
  },
  {
   "metadata": {},
   "cell_type": "code",
   "source": [
    "yc = DateCurve(YieldCurve(0.0), origin=today)\n",
    "grid = [yc.year_fraction(max(cf.domain)) for cf in cashflow_list]\n",
    "fit(cashflow_list, yc.df, today, price_list=targets, fitting_curve=yc.curve.curve, fitting_grid=grid)"
   ],
   "id": "3213a13b5544895b",
   "outputs": [],
   "execution_count": null
  },
  {
   "metadata": {},
   "cell_type": "markdown",
   "source": "### `pv()`",
   "id": "c4ffdb8ac38aebcf"
  },
  {
   "metadata": {},
   "cell_type": "code",
   "source": [
    "from yieldcurves import YieldCurve\n",
    "from curves import plot, lin"
   ],
   "id": "ab2b5c601012428b",
   "outputs": [],
   "execution_count": null
  },
  {
   "metadata": {},
   "cell_type": "code",
   "source": [
    "curve = YieldCurve.from_interpolation([0.0], [0.05])\n",
    "plot(lin(0, 30, 0.2), curve)"
   ],
   "id": "52cb09005c343924",
   "outputs": [],
   "execution_count": null
  },
  {
   "metadata": {},
   "cell_type": "code",
   "source": "pv(bond, curve.df, 0.0)",
   "id": "8bd34275237a0313",
   "outputs": [],
   "execution_count": null
  },
  {
   "metadata": {},
   "cell_type": "markdown",
   "source": "### `bpv()`",
   "id": "2a27d631c3a12586"
  },
  {
   "metadata": {},
   "cell_type": "code",
   "source": "from yieldcurves import YieldCurve\n",
   "id": "ecd70fe3e6882dd2",
   "outputs": [],
   "execution_count": null
  },
  {
   "metadata": {},
   "cell_type": "code",
   "source": [
    "yc = YieldCurve(curve)\n",
    "pv(bond, yc.df, 0.0)"
   ],
   "id": "ed68ae82e0936101",
   "outputs": [],
   "execution_count": null
  },
  {
   "metadata": {},
   "cell_type": "code",
   "source": [
    "pv1 = pv(bond, YieldCurve(curve).df, 0.0)\n",
    "pv2 = pv(bond, YieldCurve(curve + 0.0001).df, 0.0)\n",
    "pv2 - pv1"
   ],
   "id": "e7fe0df55a90898e",
   "outputs": [],
   "execution_count": null
  },
  {
   "metadata": {},
   "cell_type": "code",
   "source": "yc = YieldCurve(curve)",
   "id": "ce1b38e86b16c166",
   "outputs": [],
   "execution_count": null
  },
  {
   "metadata": {},
   "cell_type": "code",
   "source": "pv(bond, yc.df, 0.0), bpv(bond, yc.df, 0.0, delta_curve=yc.curve)",
   "id": "fde462e3847bb777",
   "outputs": [],
   "execution_count": null
  },
  {
   "metadata": {},
   "cell_type": "markdown",
   "source": "### `delta()`",
   "id": "975449ffbcc32f5a"
  },
  {
   "metadata": {},
   "cell_type": "code",
   "source": "yc = YieldCurve(curve)",
   "id": "641715456e074d27",
   "outputs": [],
   "execution_count": null
  },
  {
   "metadata": {},
   "cell_type": "code",
   "source": "delta(bond, yc.df, 0.0, delta_curve=yc.curve, delta_grid=[0., 1., 2., 3., 4., 5.])",
   "id": "92fb4ccf99717346",
   "outputs": [],
   "execution_count": null
  },
  {
   "metadata": {},
   "cell_type": "markdown",
   "source": "### `iac()`",
   "id": "85476207e5485c61"
  },
  {
   "metadata": {},
   "cell_type": "code",
   "source": "iac(bond, 3.25)",
   "id": "77a05187438fa26a",
   "outputs": [],
   "execution_count": null
  },
  {
   "metadata": {},
   "cell_type": "code",
   "source": [
    "cf_list = CashFlowList.from_fixed_cashflows([0., 1., 2., 3.], [100, 100, 100, 100])\n",
    "cf_list *= 10.\n",
    "cf_list.print() \n",
    "#print(cf_list)\n",
    "#cf_list"
   ],
   "id": "a6e4d5d06ac16fe3",
   "outputs": [],
   "execution_count": null
  },
  {
   "metadata": {},
   "cell_type": "code",
   "source": [
    "sod = pv(cf_list, curve, valuation_date=0.0)\n",
    "sod"
   ],
   "id": "a721a5a407c8ebe3",
   "outputs": [],
   "execution_count": null
  },
  {
   "metadata": {},
   "cell_type": "code",
   "source": "sod - ecf(cf_list, 0.0)[0.0]",
   "id": "ad85db2b7e06f1e1",
   "outputs": [],
   "execution_count": null
  },
  {
   "metadata": {
    "collapsed": true
   },
   "cell_type": "code",
   "source": "float(cf_list()[0.0])",
   "id": "initial_id",
   "outputs": [],
   "execution_count": null
  },
  {
   "metadata": {},
   "cell_type": "code",
   "source": [
    "cl = CashFlowList.from_rate_cashflows([1,2,3,4], 100., origin=0, fixed_rate=0.5)\n",
    "cl"
   ],
   "id": "8dde68a4482b0b59",
   "outputs": [],
   "execution_count": null
  },
  {
   "metadata": {},
   "cell_type": "code",
   "source": [
    "cf = RateCashFlowPayOff(pay_date=1.0, start=1.25, end=1.5, amount=100.0, fixed_rate=0.005)\n",
    "f = lambda *_: 0.05\n",
    "j = cf.__json__()\n",
    "print(j)\n",
    "RateCashFlowPayOff.from_json(j).__copy__()()"
   ],
   "id": "1110fb13aefefcdd",
   "outputs": [],
   "execution_count": null
  },
  {
   "metadata": {},
   "cell_type": "code",
   "source": [
    "d = dict.fromkeys(map(str, range(6)), 'öakrhgjfhgqjgqklejgrh')\n",
    "cd = CashFlowDetails(cashflow=1., **d)\n",
    "#cd.update(d)\n",
    "cd"
   ],
   "id": "80a1d1cda6f96cf1",
   "outputs": [],
   "execution_count": null
  },
  {
   "metadata": {},
   "cell_type": "markdown",
   "source": "### delta()",
   "id": "b05bd36ee94f1425"
  },
  {
   "metadata": {},
   "cell_type": "code",
   "source": [
    "from yieldcurves import plotter, YieldCurve\n",
    "from my.pl import piecewise_linear\n",
    "c = piecewise_linear([1.,2.,3.], [2.,3.,1.])\n",
    "plotter[-1:5:0.1](c)"
   ],
   "id": "8b3614c2a1033a7d",
   "outputs": [],
   "execution_count": null
  },
  {
   "metadata": {},
   "cell_type": "code",
   "source": [
    "from dcf import delta\n",
    "yc = YieldCurve(AlgebraCurve(0.01, inplace=True))\n",
    "bond_delta = delta(bond, yc.df, 0.0, delta_curve=yc.curve, delta_grid=[0., 2., 4., 6.])\n",
    "bond_bpv = bpv(bond, yc.df, 0.0, delta_curve=yc.curve)\n",
    "print(yc)\n",
    "bond_bpv, sum(bond_delta)"
   ],
   "id": "8fd5a54c1c85a8b2",
   "outputs": [],
   "execution_count": null
  },
  {
   "metadata": {},
   "cell_type": "code",
   "source": [
    "curve = piecewise_linear([1.,2.,3.], [.02,.03,.01])\n",
    "yc = YieldCurve(curve)\n",
    "shift = piecewise_linear([0.0, 1.0, 2.0], [0.0, 0.01, 0.0])\n",
    "plotter[0:5](curve=curve, shifted_curve=yc.curve+shift, shift=shift)\n",
    "yc.curve-shift\n",
    "yc"
   ],
   "id": "e5a90b458cdf86c9",
   "outputs": [],
   "execution_count": null
  },
  {
   "metadata": {},
   "cell_type": "markdown",
   "source": "## pv() with `BusinessDate`",
   "id": "655d539f348942d4"
  },
  {
   "metadata": {},
   "cell_type": "code",
   "source": [
    "from businessdate import BusinessDate, BusinessSchedule\n",
    "today = BusinessDate(20161231)"
   ],
   "id": "931a2e79462d2d43",
   "outputs": [],
   "execution_count": null
  },
  {
   "metadata": {},
   "cell_type": "code",
   "source": [
    "from yieldcurves import YieldCurve, plotter\n",
    "curve = YieldCurve.from_interpolation([0.0, 1.0, 2.0, 3.0, 4.0], [0.01, 0.009, 0.012, 0.014, 0.011])\n",
    "f = YieldCurve.from_interpolation([0.0], [0.05], spot_price=100.0)  # spot price 100 and yield of 5%\n",
    "v = YieldCurve.from_interpolation([0.0], [0.1])  # flat volatility of 10%\n",
    "print(curve(-1.), curve(4.1))\n",
    "plotter[-1:5](**{r\"$\\alpha$\":curve})"
   ],
   "id": "482c79be10afd61d",
   "outputs": [],
   "execution_count": null
  },
  {
   "metadata": {},
   "cell_type": "code",
   "source": [
    "from yieldcurves import DateCurve\n",
    "crv = DateCurve(curve, origin=today)\n",
    "fwd = DateCurve(f, origin=today)\n",
    "vol = DateCurve(v, origin=today)\n",
    "vol"
   ],
   "id": "1c8ebd408e016b57",
   "outputs": [],
   "execution_count": null
  },
  {
   "metadata": {},
   "cell_type": "code",
   "source": [
    "from dcf import OptionPayOffModel\n",
    "m = OptionPayOffModel.black76(forward_curve=fwd.price, volatility_curve=vol, valuation_date=today)"
   ],
   "id": "965d29aa59762e69",
   "outputs": [],
   "execution_count": null
  },
  {
   "metadata": {},
   "cell_type": "code",
   "source": [
    "from dcf import ecf, pv, CashFlowList, OptionCashFlowPayOff\n",
    "expiry = today + '3m'\n",
    "option = OptionCashFlowPayOff(expiry, expiry, amount=-n, strike=110.)\n",
    "option_list = CashFlowList.from_option_cashflows([expiry], strike_list=110., payoff_model=m)\n",
    "option = option_list[0]\n",
    "option"
   ],
   "id": "6b9cf840be9030c4",
   "outputs": [],
   "execution_count": null
  },
  {
   "metadata": {},
   "cell_type": "code",
   "source": [
    "# option = OptionCashFlowPayOff(expiry, expiry, amount=1, strike=110.)\n",
    "m(option, today)"
   ],
   "id": "3317e73e1b219e18",
   "outputs": [],
   "execution_count": null
  },
  {
   "metadata": {},
   "cell_type": "code",
   "source": [
    "# 0.1025...\n",
    "ecf(option_list, today, m)"
   ],
   "id": "5c2495a3746da977",
   "outputs": [],
   "execution_count": null
  },
  {
   "metadata": {},
   "cell_type": "code",
   "source": [
    "# 0.1022...\n",
    "pv(option_list, crv.df, today, m)"
   ],
   "id": "ca53a352a4167a5b",
   "outputs": [],
   "execution_count": null
  },
  {
   "metadata": {},
   "cell_type": "markdown",
   "source": "# `README`",
   "id": "6a00dfd60cf326e0"
  },
  {
   "metadata": {},
   "cell_type": "code",
   "source": "from dcf.plans import amortize, outstanding",
   "id": "947f56b8176dde1f",
   "outputs": [],
   "execution_count": null
  },
  {
   "metadata": {},
   "cell_type": "code",
   "source": [
    "today = BusinessDate(20201031)\n",
    "schedule = BusinessSchedule(today, today + \"8q\", step=\"1q\")\n",
    "start_date, payment_dates = schedule[0], schedule[1:]\n",
    "\n",
    "number_of_payments = 8\n",
    "interest_rate = 0.001\n",
    "notional = 1000.\n",
    "\n",
    "plan = amortize(number_of_payments, amount=notional)\n",
    "out = outstanding(plan, amount=notional)\n",
    "out"
   ],
   "id": "8f3e5227ca834508",
   "outputs": [],
   "execution_count": null
  },
  {
   "metadata": {},
   "cell_type": "code",
   "source": [
    "principal = CashFlowList.from_fixed_cashflows([start_date], [notional])\n",
    "principal"
   ],
   "id": "78c79c8222c107d",
   "outputs": [],
   "execution_count": null
  },
  {
   "metadata": {},
   "cell_type": "code",
   "source": [
    "redemption = CashFlowList.from_fixed_cashflows(payment_dates, plan)\n",
    "redemption"
   ],
   "id": "cabac06e2c8ddab1",
   "outputs": [],
   "execution_count": null
  },
  {
   "metadata": {},
   "cell_type": "code",
   "source": [
    "interest = CashFlowList.from_rate_cashflows(payment_dates, out, fixed_rate=0.001)\n",
    "interest"
   ],
   "id": "c7036e74ad08f3dc",
   "outputs": [],
   "execution_count": null
  },
  {
   "metadata": {},
   "cell_type": "code",
   "source": [
    "import pandas as pd\n",
    "loan = interest - principal + redemption \n",
    "df = pd.DataFrame.from_records(loan(), index='pay date')\n",
    "df['cashflow']"
   ],
   "id": "4c1caec4d7c5142b",
   "outputs": [],
   "execution_count": null
  },
  {
   "metadata": {},
   "cell_type": "code",
   "source": [
    "df['df'] = [curve.df(t) for t in df.index]\n",
    "df['pv'] = df['cashflow'] * df['df']\n",
    "df"
   ],
   "id": "51614a2dab7a09da",
   "outputs": [],
   "execution_count": null
  },
  {
   "metadata": {},
   "cell_type": "code",
   "source": "df['pv'].sum()",
   "id": "7fa688e3b4337df",
   "outputs": [],
   "execution_count": null
  },
  {
   "metadata": {},
   "cell_type": "code",
   "source": [
    "curve = YieldCurve.from_interpolation([today, today + '10y'], [-.005, .005])\n",
    "curve = DateCurve(curve, origin=today)\n",
    "x = BusinessSchedule(curve.origin, curve.origin +  '10y', '3m')"
   ],
   "id": "6f3b04bb9304bf46",
   "outputs": [],
   "execution_count": null
  },
  {
   "metadata": {},
   "cell_type": "code",
   "source": "plot(x, **{r\"$\\gamma(t)$\":curve})",
   "id": "f0f2e670683f78ac",
   "outputs": [],
   "execution_count": null
  },
  {
   "metadata": {},
   "cell_type": "code",
   "source": "pv(cashflow_list=loan, discount_curve=curve.df, valuation_date=today)  # 4.896613015654154",
   "id": "e9113591ae196985",
   "outputs": [],
   "execution_count": null
  },
  {
   "metadata": {},
   "cell_type": "markdown",
   "source": "### `fit(option)`",
   "id": "d849fd00dcbe7ba5"
  },
  {
   "metadata": {},
   "cell_type": "code",
   "source": [
    "%load_ext autoreload\n",
    "%autoreload 2"
   ],
   "id": "259d961721bb9453",
   "outputs": [],
   "execution_count": null
  },
  {
   "metadata": {},
   "cell_type": "code",
   "source": [
    "from businessdate import BusinessDate\n",
    "today = BusinessDate(20161231)"
   ],
   "id": "9a26d3305aa5fca9",
   "outputs": [],
   "execution_count": null
  },
  {
   "metadata": {},
   "cell_type": "code",
   "source": [
    "from yieldcurves import YieldCurve, DateCurve, AlgebraCurve\n",
    "curve = YieldCurve.from_interpolation([0.0, 1.0, 2.0, 3.0, 4.0], [0.01, 0.009, 0.012, 0.014, 0.011])\n",
    "f = YieldCurve.from_interpolation([0.0], [0.05], spot_price=100.0)  # spot price 100 and yield of 5%\n",
    "v = YieldCurve.from_interpolation([0.0], [0.1])  # flat volatility of 10%\n",
    "crv = DateCurve(curve, origin=today)\n",
    "fwd = DateCurve(f, origin=today)\n",
    "vol = DateCurve(YieldCurve(AlgebraCurve(v, inplace=True)), origin=today)"
   ],
   "id": "3759debdcaec1428",
   "outputs": [],
   "execution_count": null
  },
  {
   "metadata": {},
   "cell_type": "code",
   "source": [
    "from dcf import ecf, pv, fit, CashFlowList, OptionPayOffModel\n",
    "expiry = today + '3m'\n",
    "m = OptionPayOffModel.black76(forward_curve=fwd.price, volatility_curve=vol, valuation_date=today)\n",
    "option_list = CashFlowList.from_option_cashflows([expiry], strike_list=110., payoff_model=m)"
   ],
   "id": "9fe1422cec2e559",
   "outputs": [],
   "execution_count": null
  },
  {
   "metadata": {},
   "cell_type": "code",
   "source": "ecf(option_list, today, payoff_model=m)[expiry]",
   "id": "eeba0ca81a0cf981",
   "outputs": [],
   "execution_count": null
  },
  {
   "metadata": {},
   "cell_type": "code",
   "source": "pv(option_list, crv.df, today, payoff_model=m)",
   "id": "33d2113d753d37e7",
   "outputs": [],
   "execution_count": null
  },
  {
   "metadata": {},
   "cell_type": "code",
   "source": [
    "vol.curve.curve -= 0.2\n",
    "pv(option_list, crv.df, today, payoff_model=m)"
   ],
   "id": "53278aa7956e49c3",
   "outputs": [],
   "execution_count": null
  },
  {
   "metadata": {},
   "cell_type": "code",
   "source": [
    "vol.curve.curve += 0.2\n",
    "vol"
   ],
   "id": "8799ac277fab377e",
   "outputs": [],
   "execution_count": null
  },
  {
   "metadata": {},
   "cell_type": "code",
   "source": [
    "from my.pl import piecewise_linear\n",
    "addon = piecewise_linear([expiry], [0.0], origin=vol.origin)\n",
    "addon[today + '10y'] = 0.001\n",
    "addon"
   ],
   "id": "ae6730a586e37bf4",
   "outputs": [],
   "execution_count": null
  },
  {
   "metadata": {},
   "cell_type": "code",
   "source": "vol",
   "id": "7ea28531e1901e19",
   "outputs": [],
   "execution_count": null
  },
  {
   "metadata": {},
   "cell_type": "code",
   "source": [
    "\n",
    "\n",
    "data = fit([option_list], crv.df, today, fitting_curve=vol.curve.curve, fitting_grid=[expiry], present_value_list=[0.25], addon=addon)"
   ],
   "id": "217874a22fb9020e",
   "outputs": [],
   "execution_count": null
  }
 ],
 "metadata": {
  "kernelspec": {
   "display_name": "Python 3",
   "language": "python",
   "name": "python3"
  },
  "language_info": {
   "codemirror_mode": {
    "name": "ipython",
    "version": 2
   },
   "file_extension": ".py",
   "mimetype": "text/x-python",
   "name": "python",
   "nbconvert_exporter": "python",
   "pygments_lexer": "ipython2",
   "version": "2.7.6"
  }
 },
 "nbformat": 4,
 "nbformat_minor": 5
}
